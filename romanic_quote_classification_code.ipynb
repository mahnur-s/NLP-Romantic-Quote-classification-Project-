{
  "nbformat": 4,
  "nbformat_minor": 0,
  "metadata": {
    "colab": {
      "provenance": []
    },
    "kernelspec": {
      "name": "python3",
      "display_name": "Python 3"
    },
    "language_info": {
      "name": "python"
    }
  },
  "cells": [
    {
      "cell_type": "code",
      "source": [
        "import pandas as pd\n",
        "from sklearn.model_selection import train_test_split\n",
        "from sklearn.metrics import precision_score, recall_score, f1_score, confusion_matrix\n",
        "import nltk\n",
        "from nltk.corpus import gutenberg, opinion_lexicon, stopwords\n",
        "from nltk.tokenize import word_tokenize, sent_tokenize\n",
        "from nltk.stem import WordNetLemmatizer\n",
        "from nltk import bigrams\n",
        "from collections import Counter\n",
        "import re\n"
      ],
      "metadata": {
        "id": "cMtcDFKySasl"
      },
      "execution_count": null,
      "outputs": []
    },
    {
      "cell_type": "code",
      "source": [
        "nltk.download('gutenberg')\n",
        "nltk.download('punkt')\n",
        "nltk.download('stopwords')\n",
        "nltk.download('wordnet')\n",
        "nltk.download('opinion_lexicon')\n",
        "nltk.download('averaged_perceptron_tagger')"
      ],
      "metadata": {
        "colab": {
          "base_uri": "https://localhost:8080/"
        },
        "id": "KDUDMentSh3o",
        "outputId": "d1da5e79-eacd-4816-d908-411e42092050"
      },
      "execution_count": null,
      "outputs": [
        {
          "output_type": "stream",
          "name": "stderr",
          "text": [
            "[nltk_data] Downloading package gutenberg to /root/nltk_data...\n",
            "[nltk_data]   Unzipping corpora/gutenberg.zip.\n",
            "[nltk_data] Downloading package punkt to /root/nltk_data...\n",
            "[nltk_data]   Unzipping tokenizers/punkt.zip.\n",
            "[nltk_data] Downloading package stopwords to /root/nltk_data...\n",
            "[nltk_data]   Unzipping corpora/stopwords.zip.\n",
            "[nltk_data] Downloading package wordnet to /root/nltk_data...\n",
            "[nltk_data] Downloading package opinion_lexicon to /root/nltk_data...\n",
            "[nltk_data]   Unzipping corpora/opinion_lexicon.zip.\n",
            "[nltk_data] Downloading package averaged_perceptron_tagger to\n",
            "[nltk_data]     /root/nltk_data...\n",
            "[nltk_data]   Unzipping taggers/averaged_perceptron_tagger.zip.\n"
          ]
        },
        {
          "output_type": "execute_result",
          "data": {
            "text/plain": [
              "True"
            ]
          },
          "metadata": {},
          "execution_count": 2
        }
      ]
    },
    {
      "cell_type": "code",
      "source": [
        "def preprocess_text(text):\n",
        "    if pd.isna(text):\n",
        "        return \"\"\n",
        "    stop_words = set(stopwords.words('english'))\n",
        "    lemmatizer = WordNetLemmatizer()\n",
        "    words = word_tokenize(str(text).lower())\n",
        "    words = [lemmatizer.lemmatize(word) for word in words if word.isalpha() and word not in stop_words]\n",
        "    return ' '.join(words)\n"
      ],
      "metadata": {
        "id": "vCCX1ExsSinN"
      },
      "execution_count": null,
      "outputs": []
    },
    {
      "cell_type": "code",
      "source": [
        "def extract_keywords(quotes):\n",
        "    stop_words = set(stopwords.words('english'))\n",
        "    all_words = ' '.join(quotes).split()\n",
        "    filtered_words = [word for word in all_words if word.lower() not in stop_words]\n",
        "    return Counter(filtered_words)"
      ],
      "metadata": {
        "id": "T2WbFKIdSk9v"
      },
      "execution_count": null,
      "outputs": []
    },
    {
      "cell_type": "code",
      "source": [
        "def score_sentence_by_keywords(sentence, word_freq_dict):\n",
        "    words = sentence.split()\n",
        "    bigrams = [' '.join(bigram) for bigram in nltk.bigrams(words)]\n",
        "    trigrams = [' '.join(trigram) for trigram in nltk.trigrams(words)]\n",
        "    all_ngrams = words + bigrams + trigrams\n",
        "    score = sum(word_freq_dict.get(ngram, 0) for ngram in all_ngrams)\n",
        "    return score"
      ],
      "metadata": {
        "id": "n6h6VPQHSm32"
      },
      "execution_count": null,
      "outputs": []
    },
    {
      "cell_type": "code",
      "source": [
        "def readability_score(sentence):\n",
        "    words = sentence.split()\n",
        "    num_words = len(words)\n",
        "    num_sentences = 1\n",
        "    num_syllables = sum(len(re.findall(r'[aeiouy]+', word)) for word in words)\n",
        "    if num_words == 0:\n",
        "        return 0\n",
        "    flesch_kincaid = 206.835 - 1.015 * (num_words / num_sentences) - 84.6 * (num_syllables / num_words)\n",
        "    return flesch_kincaid"
      ],
      "metadata": {
        "id": "hdeUYrhMSpPN"
      },
      "execution_count": null,
      "outputs": []
    },
    {
      "cell_type": "code",
      "source": [
        "def sentiment_score(sentence):\n",
        "    pos_words = set(opinion_lexicon.positive())\n",
        "    neg_words = set(opinion_lexicon.negative())\n",
        "\n",
        "    additional_pos_words = {\n",
        "        'adore', 'affection', 'beloved', 'cherish', 'devoted', 'enamored', 'passion', 'amorous',\n",
        "        'ardent', 'attachment', 'endearment', 'infatuated', 'fondness', 'warmth', 'idolize',\n",
        "        'romantic', 'sweetheart', 'devotedly', 'tender', 'affectionately', 'darling', 'precious',\n",
        "        'sweetheart', 'lovely', 'beautiful', 'graceful', 'enchanting', 'delightful', 'captivating',\n",
        "        'alluring', 'heartthrob', 'soulmate', 'darling', 'devotion', 'adulation', 'appreciation',\n",
        "        'attraction', 'besotted', 'bliss', 'caring', 'compassion', 'darling', 'dearest', 'enamor',\n",
        "        'enchant', 'endearing', 'enthusiastic', 'euphoric', 'exquisite', 'fancy', 'fervent',\n",
        "        'flirt', 'flirtatious', 'fond', 'generous', 'gentle', 'giddy', 'gorgeous', 'happy',\n",
        "        'heartwarming', 'honey', 'hug', 'infatuation', 'joy', 'kiss', 'kindness', 'like', 'love',\n",
        "        'lovesick', 'loving', 'loyal', 'passionate', 'poetic', 'positive', 'precious', 'ravishing',\n",
        "        'romanticism', 'sentimental', 'serenade', 'smitten', 'special', 'splendid', 'stunning',\n",
        "        'sweetheart', 'thrilled', 'touching', 'treasure', 'valentine', 'vibrant', 'warmth', 'worship',\n",
        "        'yearn'\n",
        "    }\n",
        "\n",
        "    additional_neg_words = {\n",
        "        'heartbroken', 'unrequited', 'lonely', 'sorrow', 'grief', 'anguish', 'despair', 'heartache',\n",
        "        'forlorn', 'abandoned', 'desolate', 'mournful', 'wretched', 'tormented', 'pining', 'lovelorn',\n",
        "        'disappointed', 'unfulfilled', 'dejected', 'despondent', 'crestfallen', 'melancholy',\n",
        "        'disheartened', 'regret', 'remorse', 'longing', 'yearning', 'hopeless', 'hurt', 'betrayed',\n",
        "        'agony', 'alienated', 'alone', 'anguish', 'bereft', 'bitter', 'bleak', 'brokenhearted',\n",
        "        'cheerless', 'cold', 'comfortless', 'crushed', 'defeated', 'depressed', 'despondent',\n",
        "        'detached', 'devastated', 'dire', 'disconsolate', 'dismal', 'distressed', 'doleful',\n",
        "        'dreary', 'empty', 'estranged', 'forlorn', 'forsaken', 'grieving', 'heartache', 'heartbreak',\n",
        "        'heartsick', 'hopeless', 'isolated', 'lament', 'lamentable', 'longing', 'loveless',\n",
        "        'lugubrious', 'miserable', 'mourn', 'mourning', 'mournful', 'neglected', 'pain', 'pathetic',\n",
        "        'rejected', 'regretful', 'resigned', 'rueful', 'sad', 'sorrowful', 'suffering', 'suicidal',\n",
        "        'tearful', 'tragic', 'unbearable', 'unhappy', 'unrequited', 'unsatisfied', 'upset',\n",
        "        'wistful', 'woeful', 'wretched'\n",
        "    }\n",
        "\n",
        "    pos_words.update(additional_pos_words)\n",
        "    neg_words.update(additional_neg_words)\n",
        "\n",
        "    words = word_tokenize(sentence)\n",
        "    score = 0\n",
        "    for word in words:\n",
        "        if word in pos_words:\n",
        "            score += 1\n",
        "        elif word in neg_words:\n",
        "            score -= 1\n",
        "    return score"
      ],
      "metadata": {
        "id": "frfpAES5Srp2"
      },
      "execution_count": null,
      "outputs": []
    },
    {
      "cell_type": "code",
      "source": [
        "def lexical_diversity_score(sentence):\n",
        "    words = word_tokenize(sentence)\n",
        "    if len(words) == 0:\n",
        "        return 0\n",
        "    unique_words = set(words)\n",
        "    return len(unique_words) / len(words)"
      ],
      "metadata": {
        "id": "vBNo-OVuSv0V"
      },
      "execution_count": null,
      "outputs": []
    },
    {
      "cell_type": "code",
      "source": [
        "KEYWORD_WEIGHT = 0.5\n",
        "SENTIMENT_WEIGHT = 0.3\n",
        "READABILITY_WEIGHT = 0.1\n",
        "LEXICAL_DIVERSITY_WEIGHT = 0.1\n",
        "\n",
        "# Function to extract top romantic quotes\n",
        "def extract_top_romantic_quotes(sentences, word_freq_dict, top_n=10):\n",
        "    keyword_scores = [score_sentence_by_keywords(preprocess_text(sentence), word_freq_dict) for sentence in sentences]\n",
        "    sentiment_scores = [sentiment_score(sentence) for sentence in sentences]\n",
        "    readability_scores = [readability_score(sentence) for sentence in sentences]\n",
        "    lexical_diversity_scores = [lexical_diversity_score(sentence) for sentence in sentences]\n",
        "\n",
        "    combined_scores = [\n",
        "        (keyword_score * KEYWORD_WEIGHT + sentiment_score * SENTIMENT_WEIGHT +\n",
        "         readability_score * READABILITY_WEIGHT + lexical_diversity_score * LEXICAL_DIVERSITY_WEIGHT)\n",
        "        for keyword_score, sentiment_score, readability_score, lexical_diversity_score\n",
        "        in zip(keyword_scores, sentiment_scores, readability_scores, lexical_diversity_scores)\n",
        "    ]\n",
        "\n",
        "    top_indices = sorted(range(len(combined_scores)), key=lambda i: combined_scores[i], reverse=True)[:top_n]\n",
        "\n",
        "    top_sentences = [(sentences[i], combined_scores[i]) for i in top_indices]\n",
        "    return top_sentences"
      ],
      "metadata": {
        "id": "sugcMRaRUxNh"
      },
      "execution_count": 32,
      "outputs": []
    },
    {
      "cell_type": "code",
      "source": [
        "dataset = pd.read_csv('/content/drive/MyDrive/quotes.csv')\n",
        "# Filter romantic quotes\n",
        "word = 'love'\n",
        "column_name = 'category'\n",
        "\n",
        "# Handle NaN values\n",
        "dataset = dataset.dropna(subset=[column_name])\n",
        "\n",
        "romantic_quotes = dataset[dataset[column_name].str.contains(word, case=False, na=False)]\n",
        "\n",
        "# Split the romantic quotes into training (80%) and test (20%) sets\n",
        "train_set, remaining_romantic_quotes = train_test_split(romantic_quotes, test_size=0.2, random_state=42)\n",
        "\n",
        "proportion_non_romantic = 0.2  # You can adjust this proportion\n",
        "num_non_romantic = int(len(remaining_romantic_quotes) * proportion_non_romantic)\n",
        "non_romantic_quotes = dataset[~dataset[column_name].str.contains(word, case=False, na=False)]\n",
        "non_romantic_sample = non_romantic_quotes.sample(n=num_non_romantic, random_state=42)\n",
        "\n",
        "# Combine the remaining romantic quotes with the non-romantic sample to form the test set\n",
        "test_set = pd.concat([remaining_romantic_quotes, non_romantic_sample])\n",
        "\n",
        "\n",
        "# Display the resulting sets\n",
        "print(\"Training Set:\")\n",
        "print(len(train_set))\n",
        "print(\"\\nTest Set:\")\n",
        "print(len(test_set))\n",
        "print(\"\\nSample Non-Romantic Quote (row 10 in iloc):\")\n",
        "print(non_romantic_quotes.iloc[18])\n",
        "\n",
        "print(\"\\nSample Romantic Quote (row 10 in iloc):\")\n",
        "print(romantic_quotes.iloc[15])"
      ],
      "metadata": {
        "colab": {
          "base_uri": "https://localhost:8080/"
        },
        "id": "9sHQYiimTMyV",
        "outputId": "4021aed6-cf13-4dfa-dd5a-f6ee4c5eb6ca"
      },
      "execution_count": null,
      "outputs": [
        {
          "output_type": "stream",
          "name": "stdout",
          "text": [
            "Training Set:\n",
            "43188\n",
            "\n",
            "Test Set:\n",
            "12957\n",
            "\n",
            "Sample Non-Romantic Quote (row 10 in iloc):\n",
            "quote         Everything you can imagine is real.\n",
            "author                              Pablo Picasso\n",
            "category    art, imagination, inspirational, life\n",
            "Name: 2915, dtype: object\n",
            "\n",
            "Sample Romantic Quote (row 10 in iloc):\n",
            "quote       This life is what you make it. No matter what,...\n",
            "author                                         Marilyn Monroe\n",
            "category    attributed-no-source, friends, heartbreak, ins...\n",
            "Name: 15, dtype: object\n"
          ]
        }
      ]
    },
    {
      "cell_type": "code",
      "source": [
        "print(dataset.columns)\n"
      ],
      "metadata": {
        "colab": {
          "base_uri": "https://localhost:8080/"
        },
        "id": "ElqO7xnyaiwQ",
        "outputId": "3612287b-dcfa-4ee4-deb1-8cbaf65fad2f"
      },
      "execution_count": null,
      "outputs": [
        {
          "output_type": "stream",
          "name": "stdout",
          "text": [
            "Index(['quote', 'author', 'category'], dtype='object')\n"
          ]
        }
      ]
    },
    {
      "cell_type": "code",
      "source": [
        "from sklearn.metrics import precision_score, recall_score, f1_score, confusion_matrix\n",
        "import numpy as np\n",
        "\n",
        "# Assuming the column containing the quotes is 'quote' and category is 'category'\n",
        "quote_column_name = 'quote'\n",
        "category_column_name = 'category'\n",
        "\n",
        "# Preprocess text in training and test sets\n",
        "train_set['processed_text'] = train_set[quote_column_name].apply(preprocess_text)\n",
        "test_set['processed_text'] = test_set[quote_column_name].apply(preprocess_text)\n",
        "\n",
        "# Extract keywords from training set\n",
        "train_quotes = train_set['processed_text'].tolist()\n",
        "keyword_freq = extract_keywords(train_quotes)\n",
        "\n",
        "# Define threshold for classification\n",
        "threshold = np.percentile(\n",
        "    [score_sentence_by_keywords(text, keyword_freq) for text in train_set['processed_text']], 8\n",
        ")\n",
        "\n",
        "# Score each sentence in the test set\n",
        "test_set['keyword_score'] = test_set['processed_text'].apply(lambda x: score_sentence_by_keywords(x, keyword_freq))\n",
        "test_set['sentiment_score'] = test_set[quote_column_name].apply(sentiment_score)\n",
        "test_set['readability_score'] = test_set[quote_column_name].apply(readability_score)\n",
        "test_set['lexical_diversity_score'] = test_set[quote_column_name].apply(lexical_diversity_score)\n",
        "\n",
        "test_set['combined_score'] = (\n",
        "    test_set['keyword_score'] * KEYWORD_WEIGHT +\n",
        "    test_set['sentiment_score'] * SENTIMENT_WEIGHT +\n",
        "    test_set['readability_score'] * READABILITY_WEIGHT +\n",
        "    test_set['lexical_diversity_score'] * LEXICAL_DIVERSITY_WEIGHT\n",
        ")\n",
        "# Classify sentences in the test set\n",
        "test_set['predicted_label'] = test_set['combined_score'].apply(lambda x: 'romantic' if x > threshold else 'not romantic')\n",
        "\n",
        "# Actual labels (binary)\n",
        "test_set['actual_label'] = test_set[category_column_name].str.contains(word, case=False, na=False).apply(lambda x: 'romantic' if x else 'not romantic')\n",
        "\n",
        "# Convert labels to binary format for metrics calculation\n",
        "y_true = test_set['actual_label'].apply(lambda x: 1 if x == 'romantic' else 0)\n",
        "y_pred = test_set['predicted_label'].apply(lambda x: 1 if x == 'romantic' else 0)\n",
        "\n",
        "# Calculate Precision, Recall, F1 Score, and Confusion Matrix\n",
        "precision = precision_score(y_true, y_pred)\n",
        "recall = recall_score(y_true, y_pred)\n",
        "f1 = f1_score(y_true, y_pred)\n",
        "conf_matrix = confusion_matrix(y_true, y_pred)\n",
        "\n",
        "print(\"Precision:\", precision)\n",
        "print(\"Recall:\", recall)\n",
        "print(\"F1 Score:\", f1)\n",
        "print(\"Confusion Matrix:\\n\", conf_matrix)\n",
        "\n",
        "# Filter and print the quotes classified as romantic\n",
        "#romantic_quotes = test_set[test_set['predicted_label'] == 'romantic']\n",
        "\n",
        "#print(\"\\nQuotes classified as romantic:\")\n",
        "#for idx, row in romantic_quotes.iterrows():\n",
        " #   print(f\"{row[quote_column_name]} (Score: {row['combined_score']:.2f})\")"
      ],
      "metadata": {
        "id": "3_ix0kFuUD8I",
        "colab": {
          "base_uri": "https://localhost:8080/"
        },
        "outputId": "524a27ae-1240-453f-eed0-42bf8f93f674"
      },
      "execution_count": null,
      "outputs": [
        {
          "output_type": "stream",
          "name": "stdout",
          "text": [
            "Precision: 0.8671708357572232\n",
            "Recall: 0.8283015373217263\n",
            "F1 Score: 0.8472906403940886\n",
            "Confusion Matrix:\n",
            " [[ 789 1370]\n",
            " [1854 8944]]\n"
          ]
        }
      ]
    },
    {
      "cell_type": "code",
      "source": [
        "test_sentences = test_set[quote_column_name].tolist()\n",
        "top_romantic_quotes = extract_top_romantic_quotes(test_sentences, keyword_freq, top_n=10)\n",
        "\n",
        "print(\"\\nTop Romantic Quotes:\")\n",
        "for quote, score in top_romantic_quotes:\n",
        "    print(f\"{quote} (Score: {score:.2f})\\n\")\n"
      ],
      "metadata": {
        "colab": {
          "base_uri": "https://localhost:8080/"
        },
        "id": "4dfn9Ve7mQZ7",
        "outputId": "13da2984-1148-4a22-ec01-44219a99d1d9"
      },
      "execution_count": null,
      "outputs": [
        {
          "output_type": "stream",
          "name": "stdout",
          "text": [
            "\n",
            "Top Romantic Quotes:\n",
            "All that is worthy of love [*die Liebenswürdigkeiten*], from the viewpoint of God's comprehensive love, might have been stamped and created by this act of love; man's love does not so stamp or create its objects. Man's love is restricted to recognizing the objective demand these objects make and to submitting to the gradation of rank in what is worthy of love. This gradation exists in itself, but in itself it exists \"for\" man, ordered to his *particular* essence. Loving can be characterized as correct or false only because a man's actual inclinations and acts of love can be in harmony with or oppose the rank-ordering of what is worthy of love. In other words, man can feel and know himself to be at one with, or separated and opposed to, the love with which God loved the idea of the world or its content before he created it, the love with which he preserves it at every instant. If a man in his actual loving, or in the order of his acts of love, in his preferences and depreciations, subverts this self-existent order, he simultaneously subverts the intention of the divine world-order―as it is in his power to do. And whenever he does so, his world as the possible object of knowledge, and his world as the field of willing, action, and operation, must necessarily fall as well.This is not the place to speak about the content of the gradations of rank in the realm of all that is worthy of love. It is sufficient here to say something about the *form* and *content* of the realm itself.From the primal atom and the grain of sand to God, this realm is *one* realm. This \"unity\" does not mean that the realm is closed. We are conscious that no one of the finite parts of it which are given to us can exhaust its fullness and its extension. If we have only *once* experienced how one feature which is worthy of love appears next to another―or how another feature of still higher value appears over and above one which we had taken till now as the \"highest\" in a particular region of values, then we have learned the essence of progress in or penetration into the realm. Then we see that this realm cannot have precise boundaries. Only in this way can we understand that when any sort of love is fulfilled by an object adequate to it the satisfaction this gives us can never be definitive. Just as the essence of certain operations of thought which create their objects through self-given laws (e.g., the inference from *n* to *n* + *I*) prevents any limits from being placed on their application, so it is in the essence of the act of love as it fulfills itself in what is worthy of love that it can progress from value to value, from one height to an even greater height. \"Our heart is too spacious,\" said Pascal. Even if we should know that our actual ability to love is limited, at the same time we know and feel that this limit lies neither in the finite objects which are worthy of love nor in the essence of the act of love as such, but only in our organization and the conditions it sets for the occurrence and *arousal* of the act of love. For this arousal is bound up with the life of our body and our drives and with the way an object stimulates and calls this life into play. But *what* we grasp as *worthy of love* is not bound up with these, and more than the *form and structure* of the realm of which this value shows itself to be a part.\"―from_Ordo Amoris_ (Score: 401453.87)\n",
            "\n",
            "I am in Love with you, it’s me who is in love with you not you,I am in love with you.Not in a way I wanted to but yeah the way I am fond toHey I am in love with you,not treating you like I wanted to but just being the one that thought of toyeah I am in love with you,Loving you was the secrete I wanted to keepand buried deep inside my emotional heap,Doing everything possible what I had toBut baby it hurts as it hurts you too,but yeah still I am in love with you,Pulled myself million times because I got the wrong vibes all the time,But the truth remains the samebaby hear me as I am in love with you,Waiting on you I could see people were laughing on meI knew all the while you weren't near me.But you should know that I am in love with youThere were some days I missed you a lot and scared to tell you how i feel cold and hotfor you as I am in love with you is the only dreamAnd then I am in love with youI remember I have cried to sleepand bagged myself to keep you awayfrom the highest steepthe voice that said from within me I am in love with youJust I LOVE YOU was the only words I wanna hear from youeven while knowing, you don’t mean toBecause simply I feel the way I wanted toLoving to say I am in love with you.wake up in the morning with only you in my mind till I sleep at deep way in the nightI know its all silly things for your kindbut its perfect to me as clearly - deeply in love with youWhen you being nice to me that scares me sometimesbut bottom in my heart it feels so nice because during that timeI am in love with you,Doesn't matter whatever I do with you even things i have never done beforeand i enjoyed them all because simply as I am in love with you.In the first waiting on you was the favorite thing in my dayweather it s a call or just a look from you from the farthest bayI asked myself why and the voice within me said that I am in love with you. (Score: 312154.04)\n",
            "\n",
            "In reality, the damned are in the same place as the saved—in reality! But they hate it; it is their Hell. The saved love it, and it is their Heaven. It is like two people sitting side by side at an opera or a rock concert: the very thing that is Heaven to one is Hell to the other. Dostoyevski says, 'We are all in paradise, but we won’t see it'…Hell is not literally the 'wrath of God.' The love of God is an objective fact; the 'wrath of God' is a human projection of our own wrath upon God, as the Lady Julian saw—a disastrous misinterpretation of God’s love as wrath. God really says to all His creatures, 'I know you and I love you' but they hear Him saying, 'I never knew you; depart from me.' It is like angry children misinterpreting their loving parents’ affectionate advances as threats. They project their own hate onto their parents’ love and experience love as an enemy—which it is: an enemy to their egotistic defenses against joy…Since God is love, since love is the essence of the divine life, the consequence of loss of this life is loss of love...Though the damned do not love God, God loves them, and this is their torture. The very fires of Hell are made of the love of God! Love received by one who only wants to hate and fight thwarts his deepest want and is therefore torture. If God could stop loving the damned, Hell would cease to be pure torture. If the sun could stop shining, lovers of the dark would no longer be tortured by it. But the sun could sooner cease to shine than God cease to be God...The lovelessness of the damned blinds them to the light of glory in which they stand, the glory of God’s fire. God is in the fire that to them is Hell. God is in Hell ('If I make my bed in Hell, Thou art there' [Ps 139:8]) but the damned do not know Him. (Score: 278876.77)\n",
            "\n",
            "Only love can dispel hate From Satsang with Giten on Buddha,November 12, 2015, in StockholmBuddha says: SPEAK OR ACT WITH AN IMPURE MINDAND TROUBLE WILL FOLLOW YOUAS THE WHEEL FOLLOWS THE OX THAT DRIVES THE CART When Buddha uses the concept \"impure mind\", he means mind.Mind is impure, and no-mind is pure.SPEAK OR ACT WITH AN IMPURE MIND means to speak or act from the mind. AND TROUBLE WILL FOLLOW YOU means that misery and suffering is the result of the mind, because the mind means unawareness. Mind will bring trouble and suffering as certain AS THE WHEEL FOLLOWS THE OX THAT DRIVES THE CART. WE ARE WHAT WE THINKALL THAT WE ARE ARISES WITH OUR THOUGHTS SPEAK OR ACT WITH A PURE MINDAND HAPPINESS WILL FOLLOW YOU AS YOUR SHADOW, UNSHAKABLE When Buddha says \"pure mind\", he means no-mind, awareness.Happiness will follow you if you have a pure mind or no-mind. Suffering is a result of mind, of unawareness, happiness is a result of no-mind, of awareness. Happiness cannot be searched for directly, happiness can only be found if you do not search it directly. On the contrary, you have to search for awareness. When awareness comes, happiness comes of its own accord. \"LOOK HOW HE ABUSED ME AND BEAT ME, HOW HE THREW ME DOWN AND ROBBED ME\"LIVE WITH SUCH THOUGHTS AND YOU LIVE IN HATE \"LOOK HOW HE ABUSED ME AND BEAT ME HOW HE THREW ME DOWN AND ROBBED ME\"ABANDON SUCH THOUGHTS AND LIVE IN LOVE Fear and hate exists in the past and the future, love exists in the moment, in the here and now. Love exists in the present moment. Fear and hate has a reference in the past. Somebody has abused you in the past, and you are carrying it like a wound. Fear and hate is a limitation. If you hate somebody, you also create a hate in the heart of that person towards you. The world lives in fear, hate, destructiveness and violence. Hate creates hell on earth, love creates a paradise on earth. True love comes from your inner being.It is spontaneously welling up of joy, which has nothing to do with the past or the future. True love is in the moment. IN THIS WORLDHATE NEVER YET DISPELLED HATEONLY LOVE DISPELS HATETHIS IS THE LAW ANCIENT AND INEXHAUSTIBLE Hate never dispels hate, darkness cannot dispel darkness. Only love can dispel hate. The eternal law is that only love dispels hate, only light dispels darkness. Bring light into a room and the darkness disappears by itself. How can you bring light into your own being? Through becoming silent, aware, awake and conscious.  That is how to bring the light in. The moment you are aware and awake, hate will not be found. It is not possible to hate somebody with awareness. You can only hate somebody in unawareness. When you are conscious, hate disappears, when you are not conscious, then hate is there. Love and hate, light and darkness, cannot exist together, because hate is the absence of love, darkness is the absence of light. YOU TOO SHALL PASS AWAYKNOWING THIS, HOW CAN YOU QUARREL We waste our life in quarreling, in conflict, when life is so short.Use your whole energy for awareness and meditation.Then you can become a light. Meditation will make you awake, because you will discover your inner being. Meditation brings an awakening. For the first time you will feel the truth of your own being. (Score: 263871.81)\n",
            "\n",
            "Love doesn't give you very many choices. When you love someone, you just want to be with them. If they break your heart, you will still love them. Because hearts are easy to break, and though love is tender and sometimes fragile, love isn't. Love sort of envelops you. It covers you like a giant shadow, then pulls you in like a blanket. You are so warm. The feeling surrounds you, and no matter how you feel, it is always there. You can't escape it. But you wouldn't want to. You are so, so safe. You can't remember the last time you were this happy. Were you ever? This happy? Every second you are apart feels like hours. Sometimes, right before you fall asleep, you miss them so much it hurts. You ache for them. Their warmth. Their touch. Their smell. You need them. When you can't sleep you wish and wish and wish that they would wake up and talk to you. When you dream of them, you wake up smiling. When pain stabs into you, you reach out for them. You cry to them, begging them to hold you and make it all go away, make everything go away. Love addicts you to its feeling. You never, ever want to lose that feeling. Sometimes the fear of losing love drives people to do crazy things. Like buy a plane ticket. Make a phone call. Run out of a class. Cry. Write. Laugh.Because when you love someone, you really love them. You give them your whole heart. You trust them. You never want to be away from them. Sometimes, you don't even need their words. You just need them there.Love is such an amazing thing, and too many people take it for granted. If you're in love, don't let it go. Don't you dare let it go. (Score: 262980.09)\n",
            "\n",
            "We really have to understand the person we want to love. If our love is only a will to possess, it is not love. If we only think of ourselves, if we know only our own needs and ignore the needs of the other person, we cannot love. We must look deeply in order to see and understand the needs, aspirations, and suffering of the person we love. This is the ground of real love. You cannot resist loving another person when you really understand him or her.From time to time, sit close to the one you love, hold his or her hand, and ask, 'Darling, do I understand you enough? Or am I making you suffer? Please tell me so that I can learn to love you properly. I don't want to make you suffer, and if I do so because of my ignorance, please tell me so that I can love you better, so that you can be happy.\" If you say this in a voice that communicates your real openness to understand, the other person may cry.That is a good sign, because it means the door of understanding is opening and everything will be possible again. Maybe a father does not have time or is not brave enough to ask his son such a question. Then the love between them will not be as full as it could be. We need courage to ask these questions, but if we don't ask, the more we love, the more we may destroy the people we are trying to love. True love needs understanding. With understanding, the one we love will certainly flower. (Score: 262440.69)\n",
            "\n",
            "I could go on all night, Lake. I could go on and on and on about all the reasons I’m in love with you. And you know what? Some of them are the things that life has thrown our way. I do love you because you’re the only other person I know who understands my situation. I do love you because both of us know what it’s like to lose your mom and your dad. I do love you because you’re raising your little brother, just like I am. I love you because of what you went through with your mother.I love you because of what we went through with your mother. I love the way you love Kel. I love the way you love Caulder. And I love the way I love Kel. So I’m not about to apologize for loving all these things about you, no matter the reasons or the circumstances behind them. And no, I don’t need days, or weeks, or months to think about why I love you. It’s an easy answer for me. I love you because of you. Because of every single thing about you. (Score: 248253.59)\n",
            "\n",
            "Have you ever wondered what it feels like to stand with your back against the wall when it comes to love? Loving someone who doesn’t love you back. Wanting to kiss them when they don’t. Be someone else while they make you be who you are without effort? Being so at ease that it seems like you’ve known each other for years, even though you never spoke to them, or didn’t speak to them for years?Love is a rare thing. The other person can’t be forced to love you. Can’t make themselves love you, even though they want to, or not.If you ask me, love is something magical. Something totally unknown to human beings. Tell me, is there anyone out there that completely understands love? No, because human beings can’t fully understand something that can’t be understood. Love is a feeling, it’s not a thing, it’s not something that can be explained. Every soul on this earth experiences love in a million different ways. No love is the same, it never will be. No day loving the same person is the same. No day loving someone else is the same.When you love someone, fight. But make sure you lose the fight when it leads to heartache. Because losing that fight will be more rewarding then to keep on fighting for something that can never win. Never lose a fight before it has even started. (Score: 227967.31)\n",
            "\n",
            "Once you are in love, you remain always in love, sometimes fulfilled and most of the times unfulfilled and broken but you remain in love. Beauty of love is to find a way when you feel there is no way to get out of the dark room. I find it more beautiful and accomplished when you are broken but you still remain in love , i find it more astonishing when he/she left you alone but you still accompany him everywhere, I find it more hedonistic when you manage to have a beautiful smile which has struggled through tears.You may say that your beloved has cheated you, your prince charming lied you, your princess sell down the river, though you have done more than that you could do and one question which is even more painful than being slaughtered is WHY SHE/HE DID THIS TO ME which remains always unanswered. This makes your life wretchedness and see who is responsible ....No not your beloved/prince/princess its you only who is in search of something which will make no difference in your life. Let them go if they want to go, if they are happy with someone else, don't beg for the love, let the love come to you automatically.You deserve to be happy, respected and much better in your life. It is difficult to remain in love when someone suddenly disappear from your life but trust me once you understand that you have really loved them, once you understand that their state of being happy is what you always wished for is more important than that they are with you unhappy or betraying you, once you understand that life has always something better for you, once you understand the value of being lively and happy ,,,,,YOU WON'T HATE HER/HIM AGAIN IN LIFE FOR STABBING YOUR BACK ....FORGIVENESS IS THE BEST MEDICINE FOR THE PEACE OF YOUR HEART & DO REMEMBER YOUR HEART DESERVES PEACE NOT THE PIECES. Love is the best thing you can cater to yourself instead of asking from someone else. (Score: 225998.79)\n",
            "\n",
            "The central fact of biblical history, the birth of the Messiah, more than any other, presupposes the design of Providence in the selecting and uniting of successive producers, and the real, paramount interest of the biblical narratives is concentrated on the various and wondrous fates, by which are arranged the births and combinations of the 'fathers of God.' But in all this complicated system of means, having determined in the order of historical phenomena the birth of the Messiah, there was no room for love in the proper meaning of the word. Love is, of course, encountered in the Bible, but only as an independent fact and not as an instrument in the process of the genealogy of Christ. The sacred book does not say that Abram took Sarai to wife by force of an ardent love, and in any case Providence must have waited until this love had grown completely cool for the centenarian progenitors to produce a child of faith, not of love. Isaac married Rebekah not for love but in accordance with an earlier formed resolution and the design of his father. Jacob loved Rachel, but this love turned out to be unnecessary for the origin of the Messiah. He was indeed to be born of a son of Jacob - Judah - but the latter was the offspring, not of Rachel but of the unloved wife, Leah. For the production in the given generation of the ancestor of the Messiah, what was necessary was the union of Jacob precisely with Leah; but to attain this union Providence did not awaken in Jacob any powerful passion of love for the future mother of the 'father of God' - Judah. Not infringing the liberty of Jacob's heartfelt feeling, the higher power permitted him to love Rachel, but for his necessary union with Leah it made use of means of quite a different kind: the mercenary cunning of a third person - devoted to his own domestic and economic interests - Laban. Judah himself, for the production of the remote ancestors of the Messiah, besides his legitimate posterity, had in his old age to marry his daughter-in-law Tamar. Seeing that such a union was not at all in the natural order of things, and indeed could not take place under ordinary conditions, that end was attained by means of an extremely strange occurrence very seductive to superficial readers of the Bible. Nor in such an occurrence could there be any talk of love. It was not love which combined the priestly harlot Rahab with the Hebrew stranger; she yielded herself to him at first in the course of her profession, and afterwards the casual bond was strengthened by her faith in the power of the new God and in the desire for his patronage for herself and her family. It was not love which united David's great-grandfather, the aged Boaz, with the youthful Moabitess Ruth, and Solomon was begotten not from genuine, profound love, but only from the casual, sinful caprice of a sovereign who was growing old. (Score: 219362.40)\n",
            "\n"
          ]
        }
      ]
    },
    {
      "cell_type": "code",
      "source": [
        "false_positives = test_set[(test_set['predicted_label'] == 'romantic') & (test_set['actual_label'] == 'not romantic')]\n",
        "false_negatives = test_set[(test_set['predicted_label'] == 'not romantic') & (test_set['actual_label'] == 'romantic')]\n",
        "\n",
        "# Print misclassified quotes\n",
        "print(\"\\nTop 15 False Positives (Non-romantic quotes incorrectly classified as romantic):\")\n",
        "for index, row in false_positives.head(15).iterrows():\n",
        "    print(f\"{row[quote_column_name]} (Predicted: romantic, Actual: not romantic)\")\n",
        "    print(f\"Keyword Score: {row['keyword_score']:.2f}, Sentiment Score: {row['sentiment_score']:.2f}, Readability Score: {row['readability_score']:.2f}, Lexical Diversity Score: {row['lexical_diversity_score']:.2f}\\n\")\n",
        "\n",
        "print(\"\\nTop 15 False Negatives (Romantic quotes incorrectly classified as non-romantic):\")\n",
        "for index, row in false_negatives.head(15).iterrows():\n",
        "    print(f\"{row[quote_column_name]} (Predicted: not romantic, Actual: romantic)\")\n",
        "    print(f\"Keyword Score: {row['keyword_score']:.2f}, Sentiment Score: {row['sentiment_score']:.2f}, Readability Score: {row['readability_score']:.2f}, Lexical Diversity Score: {row['lexical_diversity_score']:.2f}\\n\")"
      ],
      "metadata": {
        "colab": {
          "base_uri": "https://localhost:8080/"
        },
        "id": "ZOUgKCPS9VXG",
        "outputId": "c8b12294-b1b9-49e1-cd67-90d660df4f23"
      },
      "execution_count": 30,
      "outputs": [
        {
          "output_type": "stream",
          "name": "stdout",
          "text": [
            "\n",
            "Top 15 False Positives (Non-romantic quotes incorrectly classified as romantic):\n",
            "Fire burns blue and hot.Its fair light blinds me not.Smell of smoke is satisfying, tastes nourishing to my tongue.I think fire ageless, never old, and yet no longer young.Morning coals are cool: daylight leaves me blind.I love the fire most because of what it leaves behind. (Predicted: romantic, Actual: not romantic)\n",
            "Keyword Score: 42091.00, Sentiment Score: 3.00, Readability Score: 29.57, Lexical Diversity Score: 0.86\n",
            "\n",
            "Chöd is conventionally and misleadingly seen as analogous to, if not derived from, shamanic initiatory dismemberment visions, as well as dualistic anti-body ascetic practices. Two of the elements most commonly referenced by authors in their \"identification\" of Chöd and/as shamanism—the dismemberment/sacrifice of the body and \"demonology\"—are presented in an oversimplistic fashion. In the first instance, the numerous Buddhist precursors for the offering of the body provide ample testimony to the ethical and meritorious status such acts have in the Buddhist imagination. As for the \"demonology\" of Chöd, one must keep in mind the psychology and philosophy of mind that explicitly undergirds the discourse of Düd [Skt: mārā] in Chöd. (Predicted: romantic, Actual: not romantic)\n",
            "Keyword Score: 20843.00, Sentiment Score: 3.00, Readability Score: -70.67, Lexical Diversity Score: 0.65\n",
            "\n",
            "Enthusiasm is the mother of effort, and without it nothing great was ever achieved. (Predicted: romantic, Actual: not romantic)\n",
            "Keyword Score: 7583.00, Sentiment Score: 1.00, Readability Score: 59.68, Lexical Diversity Score: 1.00\n",
            "\n",
            "It's these little things, they can pull you underLive your life filled with joy and wonderI always knew this altogether thunderWas lost in our little lives (Predicted: romantic, Actual: not romantic)\n",
            "Keyword Score: 28293.00, Sentiment Score: 0.00, Readability Score: 47.04, Lexical Diversity Score: 0.96\n",
            "\n",
            "To remain far-sighted, you need to surround yourselfwith far-sighted visionaries. You need to surround yourself with people who think like you. You needto surround yourself with people who speak the same language as you. You need to surround yourself with people who fight and refuse to give up on theirdestiny. You need to surround yourself with people whose testimonies give you reasons to press on. (Predicted: romantic, Actual: not romantic)\n",
            "Keyword Score: 41555.00, Sentiment Score: 0.00, Readability Score: 4.20, Lexical Diversity Score: 0.49\n",
            "\n",
            "I did not know that it was love until I knew. (Predicted: romantic, Actual: not romantic)\n",
            "Keyword Score: 34235.00, Sentiment Score: 1.00, Readability Score: 111.07, Lexical Diversity Score: 0.92\n",
            "\n",
            "How well you express it! That is exactly the curse of a politician's life. He has to bow to the country's feeling, however dangerous and foolhardy he knows it to be. (Predicted: romantic, Actual: not romantic)\n",
            "Keyword Score: 15605.00, Sentiment Score: -2.00, Readability Score: 47.11, Lexical Diversity Score: 0.84\n",
            "\n",
            "Simply put: Epistemic games recreate in game form the things that people do in the real world to learn to think in innovative and creative ways about problems that matter. (Predicted: romantic, Actual: not romantic)\n",
            "Keyword Score: 23236.00, Sentiment Score: 1.00, Readability Score: 43.85, Lexical Diversity Score: 0.84\n",
            "\n",
            "Give and share knowledge to the young and brave,For knowledge in this world comes for free,All you need is to keep your ears open, senses unbroken, taste buds ringing and keen eyes to see,Learn and help them learn in your lifetime too,So that like me in peace to the world you might say Adieu. (Predicted: romantic, Actual: not romantic)\n",
            "Keyword Score: 35210.00, Sentiment Score: 5.00, Readability Score: 32.96, Lexical Diversity Score: 0.72\n",
            "\n",
            "I've realised now that the reality of children is you have to be in the right place with the right person. (Predicted: romantic, Actual: not romantic)\n",
            "Keyword Score: 8081.00, Sentiment Score: 2.00, Readability Score: 68.69, Lexical Diversity Score: 0.87\n",
            "\n",
            "There are many singers who have got an exceptional talent, but spend their lives singing in local trains or hotels. Does the country even know who they are? Music in India is restricted only to Bollywood. Whoever manages to make a mark there is remembered. The ones who fail to reach and make it big there are forgotten. (Predicted: romantic, Actual: not romantic)\n",
            "Keyword Score: 34516.00, Sentiment Score: 0.00, Readability Score: 10.85, Lexical Diversity Score: 0.80\n",
            "\n",
            "What could become a danger to world peace is Iran's nuclear program and the country's open threat to annihilate Israel. (Predicted: romantic, Actual: not romantic)\n",
            "Keyword Score: 9532.00, Sentiment Score: -2.00, Readability Score: 51.18, Lexical Diversity Score: 0.91\n",
            "\n",
            "There is silly are people. You must suffer, or cause others to suffer, before you will have respect of one kind or the other from them...I will not stand to be looked at by anybody, especially when the looking is done with wrong thinking. (Predicted: romantic, Actual: not romantic)\n",
            "Keyword Score: 19887.00, Sentiment Score: -3.00, Readability Score: 31.43, Lexical Diversity Score: 0.82\n",
            "\n",
            "An aroma more heavenly than a flight of angels trickled on the breeze. \"Coffee!\" He breathed the word like a prayer. (Predicted: romantic, Actual: not romantic)\n",
            "Keyword Score: 9202.00, Sentiment Score: 3.00, Readability Score: 60.63, Lexical Diversity Score: 0.88\n",
            "\n",
            "Niko was a man of few words and flying, sugary snacks. I like that in a human. ~Catcher (Predicted: romantic, Actual: not romantic)\n",
            "Keyword Score: 11841.00, Sentiment Score: 1.00, Readability Score: 80.47, Lexical Diversity Score: 0.90\n",
            "\n",
            "\n",
            "Top 15 False Negatives (Romantic quotes incorrectly classified as non-romantic):\n",
            "I wasn't really a work-conscious type of person. I was a player. I loved to play sports. (Predicted: not romantic, Actual: romantic)\n",
            "Keyword Score: 6733.00, Sentiment Score: 1.00, Readability Score: 90.05, Lexical Diversity Score: 0.71\n",
            "\n",
            "—Te traje algo que te va a hacer alucinar.—No le entro a las drogas. —Fingí enfado y junté las cejas.—Nunca dejas de estar a la defensiva.—Culpa a tu amigo que me enseñó a estar siempre “en guardia”.—Prueba esto y terminarás amándome.—Ten cuidado con lo que deseas, chato. Porque soy de las que lleva el amor a los extremos.—Una chica intensa y peligrosa.—Ya ves que me paso la vida entre el nunca y el siempre. (Predicted: not romantic, Actual: romantic)\n",
            "Keyword Score: 1975.00, Sentiment Score: 0.00, Readability Score: -18.04, Lexical Diversity Score: 0.72\n",
            "\n",
            "You're too damn beautiful for your own good.Hell,you're too damn beautiful for my own good (Predicted: not romantic, Actual: romantic)\n",
            "Keyword Score: 4794.00, Sentiment Score: 1.00, Readability Score: 61.89, Lexical Diversity Score: 0.68\n",
            "\n",
            "You and your sister are very dear to each other. To show your regard, you give each other lovely bouquets of lies. (Predicted: not romantic, Actual: romantic)\n",
            "Keyword Score: 3802.00, Sentiment Score: 1.00, Readability Score: 61.45, Lexical Diversity Score: 0.84\n",
            "\n",
            "You can only reach God through His creation (Predicted: not romantic, Actual: romantic)\n",
            "Keyword Score: 3630.00, Sentiment Score: 0.00, Readability Score: 92.97, Lexical Diversity Score: 1.00\n",
            "\n",
            "Loving a warrior is not easy. I pray our Lord Jesus will strengthen you for the journey. (Predicted: not romantic, Actual: romantic)\n",
            "Keyword Score: 2663.00, Sentiment Score: 1.00, Readability Score: 80.10, Lexical Diversity Score: 0.95\n",
            "\n",
            "None of this is his fault, but here we sit in the police station. (Predicted: not romantic, Actual: romantic)\n",
            "Keyword Score: 621.00, Sentiment Score: -1.00, Readability Score: 77.81, Lexical Diversity Score: 1.00\n",
            "\n",
            "Through the darkest hours of the nightand through the dreamers realm I seek,Far beyond the starry skyand beyond galaxies I am free.Through the grimmest memoriesand past a seasons air I cannot breathe,Far beyond this mortal worldin an afterlife we shall meet. (Predicted: not romantic, Actual: romantic)\n",
            "Keyword Score: 5280.00, Sentiment Score: 0.00, Readability Score: 43.48, Lexical Diversity Score: 0.79\n",
            "\n",
            "The first step toward success is a deep driving desire. (Predicted: not romantic, Actual: romantic)\n",
            "Keyword Score: 3855.00, Sentiment Score: 1.00, Readability Score: 69.79, Lexical Diversity Score: 1.00\n",
            "\n",
            "Don't just conform (Predicted: not romantic, Actual: romantic)\n",
            "Keyword Score: 13.00, Sentiment Score: 0.00, Readability Score: 90.99, Lexical Diversity Score: 1.00\n",
            "\n",
            "When we desire and hope for excellence and take action we become what we desire. (Predicted: not romantic, Actual: romantic)\n",
            "Keyword Score: 6083.00, Sentiment Score: 1.00, Readability Score: 39.33, Lexical Diversity Score: 0.75\n",
            "\n",
            "Give her the continent and she wanted the hemisphere. (Predicted: not romantic, Actual: romantic)\n",
            "Keyword Score: 3171.00, Sentiment Score: 0.00, Readability Score: 47.30, Lexical Diversity Score: 0.90\n",
            "\n",
            "I swear I won't touch you even with a finger until you ask me yourself. (Predicted: not romantic, Actual: romantic)\n",
            "Keyword Score: 4682.00, Sentiment Score: 0.00, Readability Score: 95.73, Lexical Diversity Score: 0.88\n",
            "\n",
            "A baby is the symbol of the future, hope for the future, and our opinion in the future. (Predicted: not romantic, Actual: romantic)\n",
            "Keyword Score: 2860.00, Sentiment Score: 0.00, Readability Score: 56.97, Lexical Diversity Score: 0.71\n",
            "\n",
            "There is strange comfort in knowing that no matter what happens today, the Sun will rise again tomorrow. (Predicted: not romantic, Actual: romantic)\n",
            "Keyword Score: 3601.00, Sentiment Score: 0.00, Readability Score: 52.27, Lexical Diversity Score: 1.00\n",
            "\n"
          ]
        }
      ]
    },
    {
      "cell_type": "code",
      "source": [
        "paragraph = \"\"\"\n",
        "Life is beautiful and filled with many wonders.\n",
        "The sky is blue and the sun shines bright.\n",
        "Love is what makes the world go round.\n",
        "Sometimes, all you need is a little romance to brighten your day.\n",
        "Friends and family bring joy to our lives.\n",
        "In the end, it's the love we share that matters the most.\n",
        "The ocean waves crash gently on the shore.\n",
        "Birds chirp melodiously in the early morning.\n",
        "Trees sway with the gentle breeze.\n",
        "The mountains stand tall, witnessing the passage of time.\n",
        "Rivers flow endlessly, carrying stories of old.\n",
        "Stars twinkle in the night sky, reminding us of our dreams.\n",
        "The moonlight bathes the earth in a soft glow.\n",
        "Children play happily in the park, their laughter echoing through the air.\n",
        "Flowers bloom, adding color to our world.\n",
        "Music has the power to heal our souls.\n",
        "Books transport us to different worlds and times.\n",
        "The kindness of strangers can brighten a gloomy day.\n",
        "Art captures the beauty of life in all its forms.\n",
        "Good food brings people together.\n",
        "Exercise keeps our bodies and minds healthy.\n",
        "In the end, it’s the love we share that matters the most.\n",
        "Cherish every moment with loved ones.\n",
        "The journey of life is more meaningful when shared with someone special.\n",
        "Let's spread love and positivity wherever we go.\n",
        "\"\"\"\n",
        "def extract_sentences(paragraph):\n",
        "    sentences = re.split(r'(?<=[.!?]) +', paragraph)\n",
        "    return sentences\n",
        "z = extract_sentences(paragraph)\n",
        "\n",
        "top_romantic_quotes = extract_top_romantic_quotes(z, keyword_freq, top_n=3)\n",
        "print(\"\\nTop Romantic Quotes:\")\n",
        "for quote, score in top_romantic_quotes:\n",
        "    print(f\"{quote} (Score: {score:.2f})\\n\")\n"
      ],
      "metadata": {
        "id": "x4Bp12tktxGS",
        "colab": {
          "base_uri": "https://localhost:8080/"
        },
        "outputId": "7df57606-8919-4280-ea14-6629f04492ca"
      },
      "execution_count": null,
      "outputs": [
        {
          "output_type": "stream",
          "name": "stdout",
          "text": [
            "\n",
            "Top Romantic Quotes:\n",
            "\n",
            "Love is what makes the world go round.\n",
            "Sometimes, all you need is a little romance to brighten your day. (Score: 22661.28)\n",
            "\n",
            "\n",
            "Exercise keeps our bodies and minds healthy.\n",
            "In the end, it’s the love we share that matters the most. (Score: 17517.81)\n",
            "\n",
            "\n",
            "Let's spread love and positivity wherever we go.\n",
            " (Score: 16600.41)\n",
            "\n"
          ]
        }
      ]
    },
    {
      "cell_type": "code",
      "source": [],
      "metadata": {
        "id": "PtjJZel3yZP_"
      },
      "execution_count": null,
      "outputs": []
    }
  ]
}